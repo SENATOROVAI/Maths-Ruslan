{
 "cells": [
  {
   "cell_type": "markdown",
   "metadata": {},
   "source": [
    "07/09/2024\n",
    "\n",
    "1. Узнал о пробелах в школьных знаниях \n",
    "2. Выучил новые обозначения в множествах\n",
    "3. Скачал много плагинов"
   ]
  }
 ],
 "metadata": {
  "language_info": {
   "name": "python"
  }
 },
 "nbformat": 4,
 "nbformat_minor": 2
}
